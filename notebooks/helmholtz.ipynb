{
 "cells": [
  {
   "cell_type": "markdown",
   "id": "43de36b2",
   "metadata": {},
   "source": [
    "# The Indefinite Helmholtz Equation\n",
    "\n",
    "Similar to our previous example, the first step is to import the respective EvoStencils modules."
   ]
  },
  {
   "cell_type": "code",
   "execution_count": 1,
   "id": "08d752f9",
   "metadata": {},
   "outputs": [],
   "source": [
    "from evostencils.optimization.program import Optimizer\n",
    "from evostencils.code_generation.exastencils import ProgramGenerator\n",
    "import os\n",
    "import sys"
   ]
  },
  {
   "cell_type": "markdown",
   "id": "0b9d3ba7",
   "metadata": {},
   "source": [
    "## Problem Formulation\n",
    "\n",
    "As a more interesting test case than the one used in our basic tutorial we consider an example of the indefinite Helmholtz equation, as given by\n",
    "\n",
    "\\begin{equation}\n",
    "\t\\begin{split}\n",
    "\t\t(-\\nabla ^{2} - k^{2}) u & = f \\quad \\text{in} \\; \\left( 0, 1 \\right)^2 \\\\\n",
    "\t\tu & = 0 \\quad \\text{on} \\; \\left( 0, 1 \\right) \\times \\{0\\}, \\left( 0, 1 \\right) \\times \\{1\\} \\\\\n",
    "\t\t\\partial_{\\mathbf{n}} u - iku & = 0 \\quad \\text{on} \\; \\{0\\} \\times \\left( 0, 1 \\right), \\{1\\} \\times \\left( 0, 1 \\right) \\\\\n",
    "\t\tf(x, y) & = \\delta(x - 0.5, y - 0.5),\n",
    "\t\\end{split}\n",
    "\\end{equation}\n",
    "\n",
    "where $\\delta(x)$ is the Dirac delta function. The equation is defined on the unit square and possesses Dirichlet boundary conditions at the top and bottom and Robin radiation conditions at the left and right.\n",
    "\n",
    "We discretize this equation on a uniform Cartesian grid using the classical five-point stencil\n",
    "\n",
    "\\begin{equation*}\n",
    "\tA_h = \\frac{1}{h^2} \\begin{bmatrix}\n",
    "\t\t& -1 & \\\\\n",
    "\t\t-1 & 4 - (k h)^2 & -1 \\\\\n",
    "\t\t& -1 &  \n",
    "\t\\end{bmatrix}.\n",
    "\\end{equation*}\n",
    "\n",
    "In addition, $\\delta(x)$ is approximated with a second-order Zenger correction.\n",
    "The spacing $h$ of the grid is chosen to fulfill the second-order accuracy requirement $h k = 0.625$ as described above.\n",
    "Finally, we apply the shifted Laplace operator\n",
    "\n",
    "\\begin{equation*}\n",
    "\tM = -\\nabla^{2} - (k^{2} + 0.5 i k^{2}),\n",
    "\\end{equation*}\n",
    "\n",
    "as a preconditioner, which is discretized similarly to the original operator using the five-point stencil\n",
    "\n",
    "\\begin{equation*}\n",
    "\tM_h = \\frac{1}{h^2} \\begin{bmatrix}\n",
    "\t\t& -1 & \\\\\n",
    "\t\t-1 & 4 - (1.0 + 0.5i)(k h)^2 & -1 \\\\\n",
    "\t\t& -1 &  \n",
    "\t\\end{bmatrix}.\n",
    "\\end{equation*}"
   ]
  },
  {
   "cell_type": "code",
   "execution_count": 2,
   "id": "756360ab",
   "metadata": {},
   "outputs": [],
   "source": [
    "\n",
    "cwd = f'{os.getcwd()}/..'\n",
    "# Path to the ExaStencils compiler\n",
    "compiler_path = f'{cwd}/exastencils/Compiler/Compiler.jar'\n",
    "# Path to base folder\n",
    "base_path = f'{cwd}/example_problems'\n",
    "# Relative path to platform file (from base folder)\n",
    "platform_path = f'lib/linux.platform'\n",
    "# Example problem from L2\n",
    "# Relative path to settings file (from base folder)\n",
    "settings_path = f'Helmholtz/2D_FD_Helmholtz_fromL3.settings'\n",
    "knowledge_path = f'Helmholtz/2D_FD_Helmholtz_fromL3.knowledge'\n",
    "cycle_name = \"gen_mgCycle\"  # Default name\n",
    "# Additional global parameter values within the PDE system\n",
    "values = [80.0 * 2.0**i for i in range(100)]\n",
    "pde_parameter_values = {'k': values}\n",
    "# The maximum number of iterations considered acceptable for a solver\n",
    "solver_iteration_limit = 10000\n",
    "# Set up MPI\n",
    "from mpi4py import MPI\n",
    "comm = MPI.COMM_WORLD\n",
    "nprocs = comm.Get_size()\n",
    "mpi_rank = comm.Get_rank()"
   ]
  },
  {
   "cell_type": "markdown",
   "id": "d95d704b",
   "metadata": {},
   "source": [
    "## Solver Configuration\n",
    "As a result of the above formulation of our test problem, we obtain two systems of linear equations\n",
    "\n",
    "\\begin{equation}\n",
    "\tA_h M_h^{-1} y_h = b_h,\n",
    "\\end{equation}\n",
    "\n",
    "where $b_h$ contains the values of $\\delta(x)$ at each grid point, and\n",
    "\n",
    "\\begin{equation}\n",
    "\tM_h x_h = y_h,\n",
    "\\end{equation}\n",
    "\n",
    "where $x_h$ represents the approximate solution of the above Helmholtz problem.\n",
    "While for each of these two systems of linear equations, a functioning solver is needed, the focus of this example is the design of an efficient multigrid method for the approximate solution of the preconditioning system.\n",
    "Here, to limit the cost of preconditioning, we assume that the application of a single multigrid cycle is sufficient to compute a reasonable approximation for $M_{h}^{-1}$.\n",
    "After designing a suitable multigrid-based preconditioner, the discretized Helmholtz equation is solved using the biconjugate gradient stabilized method (BiCGSTAB)."
   ]
  },
  {
   "cell_type": "code",
   "execution_count": 3,
   "id": "ebdd0a0b",
   "metadata": {},
   "outputs": [],
   "source": [
    "program_generator = ProgramGenerator(compiler_path, base_path, settings_path, knowledge_path, platform_path, mpi_rank=mpi_rank, \n",
    "                                     cycle_name=cycle_name, model_based_estimation=False,\n",
    "                                     solver_iteration_limit=solver_iteration_limit)"
   ]
  },
  {
   "cell_type": "code",
   "execution_count": 4,
   "id": "02286416",
   "metadata": {},
   "outputs": [],
   "source": [
    "# Obtain extracted information from program generator\n",
    "dimension = program_generator.dimension  # Dimensionality of the problem\n",
    "finest_grid = program_generator.finest_grid  # Representation of the finest grid\n",
    "coarsening_factors = program_generator.coarsening_factor\n",
    "min_level = program_generator.min_level  # Minimum discretization level\n",
    "max_level = program_generator.max_level  # Maximum discretization level\n",
    "equations = program_generator.equations  # System of PDEs in SymPy\n",
    "operators = program_generator.operators  # Discretized differential operators\n",
    "fields = program_generator.fields  # Variables that occur within system of PDEs\n",
    "problem_name = program_generator.problem_name\n"
   ]
  },
  {
   "cell_type": "code",
   "execution_count": 5,
   "id": "f28bb48d",
   "metadata": {},
   "outputs": [],
   "source": [
    "if mpi_rank == 0 and not os.path.exists(f'{cwd}/{problem_name}'):\n",
    "    # Create directory for checkpoints and output data\n",
    "    os.makedirs(f'{cwd}/{problem_name}')\n",
    "# Path to directory for storing checkpoints\n",
    "checkpoint_directory_path = f'{cwd}/{problem_name}/checkpoints_{mpi_rank}'"
   ]
  },
  {
   "cell_type": "code",
   "execution_count": 6,
   "id": "2752c9d7",
   "metadata": {},
   "outputs": [],
   "source": [
    "optimizer = Optimizer(dimension, finest_grid, coarsening_factors, min_level, max_level, equations, operators, fields, \n",
    "                      mpi_comm=comm, mpi_rank=mpi_rank, number_of_mpi_processes=nprocs, program_generator=program_generator,  \n",
    "                      checkpoint_directory_path=checkpoint_directory_path)"
   ]
  },
  {
   "cell_type": "code",
   "execution_count": 7,
   "id": "2398e5be",
   "metadata": {},
   "outputs": [],
   "source": [
    "levels_per_run = max_level - min_level\n",
    "assert levels_per_run <= 5, \"Can not optimize more than 5 levels\""
   ]
  },
  {
   "cell_type": "code",
   "execution_count": 8,
   "id": "f4832a8b",
   "metadata": {},
   "outputs": [],
   "source": [
    "# Choose optimization method\n",
    "optimization_method = optimizer.NSGAII\n",
    "\n",
    "generations = 20  # Number of generations\n",
    "mu_ = 4  # Population size\n",
    "lambda_ = 4  # Number of offspring\n",
    "# Option to use random search instead of crossover and mutation to create new individuals\n",
    "use_random_search = False\n",
    "population_initialization_factor = 4  # Multiply mu_ by this factor to set the initial population size\n",
    "crossover_probability = 0.9\n",
    "mutation_probability = 1.0 - crossover_probability\n",
    "node_replacement_probability = 0.1  # Probability to perform mutation by altering a single node in the tree\n",
    "evaluation_samples = 3  # Number of evaluation samples"
   ]
  },
  {
   "cell_type": "code",
   "execution_count": 9,
   "id": "aceb892b",
   "metadata": {},
   "outputs": [],
   "source": [
    "# Number of generations after which a generalization is performed\n",
    "# This is achieved by incrementing min_level and max_level within the optimization\n",
    "# Such that a larger (and potentially more difficult) instance of the same problem is considered in subsequent generations\n",
    "generalization_interval = 10\n",
    "# Option to continue from the checkpoint of a previous optimization\n",
    "# Warning: So far no check is performed whether the checkpoint is compatible with the current optimization setting\n",
    "continue_from_checkpoint = False"
   ]
  },
  {
   "cell_type": "code",
   "execution_count": null,
   "id": "3319f090",
   "metadata": {},
   "outputs": [],
   "source": [
    "# Return values of the optimization\n",
    "# program: Grammar string representing the multigrid method on the topmost levels\n",
    "# dsl_code: ExaSlang program string representing the multigrid solver functions\n",
    "# pops: Populations at the end of each optimization run on the respective subrange of the discretization hierarchy\n",
    "# stats: Statistics structure (data structure provided by the DEAP framework)\n",
    "# hofs: Hall-of-fames at the end of each optimization run on the respective subrange of the discretization hierarchy\n",
    "program, dsl_code, pops, stats, hofs = optimizer.evolutionary_optimization(optimization_method=optimization_method, \n",
    "                                                                 use_random_search=use_random_search, \n",
    "                                                                 mu_=mu_, lambda_=lambda_, \n",
    "                                                                 population_initialization_factor=population_initialization_factor,\n",
    "                                                                 generations=generations, \n",
    "                                                                 generalization_interval=generalization_interval,\n",
    "                                                                 crossover_probability=crossover_probability,\n",
    "                                                                 mutation_probability=mutation_probability,\n",
    "                                                                 node_replacement_probability=node_replacement_probability,\n",
    "                                                                 levels_per_run=levels_per_run,\n",
    "                                                                 evaluation_samples=evaluation_samples,\n",
    "                                                                 pde_parameter_values=pde_parameter_values,\n",
    "                                                                 continue_from_checkpoint=continue_from_checkpoint)"
   ]
  },
  {
   "cell_type": "code",
   "execution_count": null,
   "id": "dc0173b5",
   "metadata": {},
   "outputs": [],
   "source": [
    "# Print the outcome of the optimization and store the data and statistics\n",
    "if mpi_rank == 0:\n",
    "    print(f'\\nExaSlang Code:\\n{dsl_code}\\n', flush=True)\n",
    "    if not os.path.exists(f'./{problem_name}'):\n",
    "        os.makedirs(f'./{problem_name}')\n",
    "    j = 0\n",
    "    log_dir_name = f'./{problem_name}/data_{j}'\n",
    "    while os.path.exists(log_dir_name):\n",
    "        j += 1\n",
    "        log_dir_name = f'./{problem_name}/data_{j}'\n",
    "    os.makedirs(log_dir_name)\n",
    "    for i, log in enumerate(stats):\n",
    "        optimizer.dump_data_structure(log, f\"{log_dir_name}/log_{i}.p\")\n",
    "    for i, pop in enumerate(pops):\n",
    "        optimizer.dump_data_structure(pop, f\"{log_dir_name}/pop_{i}.p\")\n",
    "    for i, hof in enumerate(hofs):\n",
    "        hof_dir = f'{log_dir_name}/hof_{i}'\n",
    "        os.makedirs(hof_dir)\n",
    "        for j, ind in enumerate(hof):\n",
    "            with open(f'{hof_dir}/individual_{j}.txt', 'w') as grammar_file:\n",
    "                grammar_file.write(str(ind) + '\\n')"
   ]
  }
 ],
 "metadata": {
  "kernelspec": {
   "display_name": "Python 3 (ipykernel)",
   "language": "python",
   "name": "python3"
  },
  "language_info": {
   "codemirror_mode": {
    "name": "ipython",
    "version": 3
   },
   "file_extension": ".py",
   "mimetype": "text/x-python",
   "name": "python",
   "nbconvert_exporter": "python",
   "pygments_lexer": "ipython3",
   "version": "3.8.13"
  }
 },
 "nbformat": 4,
 "nbformat_minor": 5
}
